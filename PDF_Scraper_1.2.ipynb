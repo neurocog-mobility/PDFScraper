{
 "cells": [
  {
   "cell_type": "code",
   "execution_count": null,
   "metadata": {
    "ExecuteTime": {
     "end_time": "2024-03-05T22:27:33.987728Z",
     "start_time": "2024-03-05T22:27:20.282416Z"
    },
    "collapsed": false,
    "pycharm": {
     "is_executing": true
    }
   },
   "outputs": [],
   "source": [
    "import fitz\n",
    "import pandas as pd\n",
    "import numpy as np\n",
    "import tkinter as tk\n",
    "from tkinter import filedialog\n",
    "\n",
    "def get_fields(file):\n",
    "    field_data = {}\n",
    "    pdf = fitz.open(file)\n",
    "    for page in pdf:\n",
    "        widgets = page.widgets()\n",
    "        for widget in widgets:\n",
    "            field_name = widget.field_name \n",
    "            field_value = widget.field_value # Joyval \n",
    "            if field_name in field_data:\n",
    "                field_data[field_name].append(field_value)\n",
    "            else:\n",
    "                field_data[field_name] = [field_value]\n",
    "\n",
    "\n",
    "    # make the DataFrame\n",
    "    df = pd.DataFrame(field_data)\n",
    "\n",
    "    # Replace non-filled values with NaN\n",
    "    df.replace('', np.nan, inplace=True)\n",
    "\n",
    "    return df\n",
    "\n",
    "def get_input_file():\n",
    "    root = tk.Tk()\n",
    "    root.withdraw()  # Hide the main window\n",
    "\n",
    "    # Open a file dialog to select the input PDF file\n",
    "    input_file_path = filedialog.askopenfilename(filetypes=[(\"PDF files\", \"*.pdf\")])\n",
    "    return input_file_path\n",
    "\n",
    "def get_output_directory():\n",
    "    root = tk.Tk()\n",
    "    root.withdraw()\n",
    "\n",
    "    # Select the output directory\n",
    "    output_directory = filedialog.askdirectory()\n",
    "    return output_directory\n",
    "\n",
    "def write_to_csv(df, output_path, filename):\n",
    "    # make full path\n",
    "    full_path = f\"{output_path}/{filename}.csv\"\n",
    "\n",
    "    # Write Df to CSV\n",
    "    df.to_csv(full_path, index=False)\n",
    "\n",
    "# Main Idea\n",
    "pdf_form_name = input(\"Specify which of the following: CFOG, MSRS_GSAP, NFOGQ, PRO_PAC, PAS, as an input you are trying to convert\")\n",
    "\n",
    "input_file_path = get_input_file()\n",
    "fields_df = get_fields(input_file_path)\n",
    "\n",
    "output_path = get_output_directory()\n",
    "filename = f\"{pdf_form_name}_{fields_df['ID'][0]}_output\"\n",
    "\n",
    "write_to_csv(fields_df, output_path, filename)\n"
   ]
  }
 ],
 "metadata": {
  "kernelspec": {
   "display_name": "Python 3",
   "language": "python",
   "name": "python3"
  },
  "language_info": {
   "codemirror_mode": {
    "name": "ipython",
    "version": 2
   },
   "file_extension": ".py",
   "mimetype": "text/x-python",
   "name": "python",
   "nbconvert_exporter": "python",
   "pygments_lexer": "ipython2",
   "version": "2.7.6"
  }
 },
 "nbformat": 4,
 "nbformat_minor": 0
}
